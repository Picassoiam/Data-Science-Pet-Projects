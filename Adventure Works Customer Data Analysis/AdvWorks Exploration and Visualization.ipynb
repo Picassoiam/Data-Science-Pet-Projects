{
  "cells": [
    {
      "metadata": {
        "collapsed": true,
        "trusted": false
      },
      "cell_type": "markdown",
      "source": "# Adventure Works Customer Characteristics Data Exploration"
    },
    {
      "metadata": {
        "trusted": true
      },
      "cell_type": "code",
      "source": "#lets improt the numpy and pandas dependecies  \nimport pandas as pd \nimport numpy as np\nimport seaborn as sns\nimport matplotlib.pyplot as plt\n%matplotlib inline",
      "execution_count": 6,
      "outputs": []
    },
    {
      "metadata": {
        "trusted": true
      },
      "cell_type": "code",
      "source": "#lets now add our Data by adding a varriable to store them\nams=pd.read_csv('AW_AveMonthSpend.csv')\nams.head(5)",
      "execution_count": 7,
      "outputs": [
        {
          "output_type": "execute_result",
          "execution_count": 7,
          "data": {
            "text/html": "<div>\n<style scoped>\n    .dataframe tbody tr th:only-of-type {\n        vertical-align: middle;\n    }\n\n    .dataframe tbody tr th {\n        vertical-align: top;\n    }\n\n    .dataframe thead th {\n        text-align: right;\n    }\n</style>\n<table border=\"1\" class=\"dataframe\">\n  <thead>\n    <tr style=\"text-align: right;\">\n      <th></th>\n      <th>CustomerID</th>\n      <th>AveMonthSpend</th>\n    </tr>\n  </thead>\n  <tbody>\n    <tr>\n      <th>0</th>\n      <td>11000</td>\n      <td>89</td>\n    </tr>\n    <tr>\n      <th>1</th>\n      <td>11001</td>\n      <td>117</td>\n    </tr>\n    <tr>\n      <th>2</th>\n      <td>11002</td>\n      <td>123</td>\n    </tr>\n    <tr>\n      <th>3</th>\n      <td>11003</td>\n      <td>50</td>\n    </tr>\n    <tr>\n      <th>4</th>\n      <td>11004</td>\n      <td>95</td>\n    </tr>\n  </tbody>\n</table>\n</div>",
            "text/plain": "   CustomerID  AveMonthSpend\n0       11000             89\n1       11001            117\n2       11002            123\n3       11003             50\n4       11004             95"
          },
          "metadata": {}
        }
      ]
    },
    {
      "metadata": {
        "trusted": true
      },
      "cell_type": "code",
      "source": "#lets find out our summary startistics for our ams data\nams['AveMonthSpend'].describe()",
      "execution_count": 8,
      "outputs": [
        {
          "output_type": "execute_result",
          "execution_count": 8,
          "data": {
            "text/plain": "count    16519.000000\nmean        72.405957\nstd         27.285370\nmin         22.000000\n25%         52.000000\n50%         68.000000\n75%         84.000000\nmax        176.000000\nName: AveMonthSpend, dtype: float64"
          },
          "metadata": {}
        }
      ]
    },
    {
      "metadata": {
        "trusted": true
      },
      "cell_type": "code",
      "source": "#Lets find out the least value in our dataset\nams.min()",
      "execution_count": 9,
      "outputs": [
        {
          "output_type": "execute_result",
          "execution_count": 9,
          "data": {
            "text/plain": "CustomerID       11000\nAveMonthSpend       22\ndtype: int64"
          },
          "metadata": {}
        }
      ]
    },
    {
      "metadata": {
        "trusted": true
      },
      "cell_type": "code",
      "source": "#Lets find out the Highest value in our dataset\nams.max()",
      "execution_count": 10,
      "outputs": [
        {
          "output_type": "execute_result",
          "execution_count": 10,
          "data": {
            "text/plain": "CustomerID       29482\nAveMonthSpend      176\ndtype: int64"
          },
          "metadata": {}
        }
      ]
    },
    {
      "metadata": {
        "trusted": true
      },
      "cell_type": "code",
      "source": "#lets find the mean for our ams dataset\nams.mean()",
      "execution_count": 11,
      "outputs": [
        {
          "output_type": "execute_result",
          "execution_count": 11,
          "data": {
            "text/plain": "CustomerID       20234.225195\nAveMonthSpend       72.405957\ndtype: float64"
          },
          "metadata": {}
        }
      ]
    },
    {
      "metadata": {
        "trusted": true
      },
      "cell_type": "code",
      "source": "#Lets find our median avg monthly spend \nams.median()",
      "execution_count": 12,
      "outputs": [
        {
          "output_type": "execute_result",
          "execution_count": 12,
          "data": {
            "text/plain": "CustomerID       20221.0\nAveMonthSpend       68.0\ndtype: float64"
          },
          "metadata": {}
        }
      ]
    },
    {
      "metadata": {
        "trusted": true
      },
      "cell_type": "code",
      "source": "#Lets find our median avg monthly spend std deviation\nams.std()",
      "execution_count": 22,
      "outputs": [
        {
          "output_type": "execute_result",
          "execution_count": 22,
          "data": {
            "text/plain": "CustomerID       5342.515987\nAveMonthSpend      27.285370\ndtype: float64"
          },
          "metadata": {}
        }
      ]
    },
    {
      "metadata": {
        "trusted": true
      },
      "cell_type": "code",
      "source": "ams.isnull().count()",
      "execution_count": 14,
      "outputs": [
        {
          "output_type": "execute_result",
          "execution_count": 14,
          "data": {
            "text/plain": "CustomerID       16519\nAveMonthSpend    16519\ndtype: int64"
          },
          "metadata": {}
        }
      ]
    },
    {
      "metadata": {
        "trusted": true
      },
      "cell_type": "code",
      "source": "ams.shape",
      "execution_count": 15,
      "outputs": [
        {
          "output_type": "execute_result",
          "execution_count": 15,
          "data": {
            "text/plain": "(16519, 2)"
          },
          "metadata": {}
        }
      ]
    },
    {
      "metadata": {
        "trusted": true
      },
      "cell_type": "code",
      "source": "#Distiribution of Avg Monthly Spend \nsns.countplot(x='AveMonthSpend',data=ams)\n",
      "execution_count": 16,
      "outputs": [
        {
          "output_type": "execute_result",
          "execution_count": 16,
          "data": {
            "text/plain": "<matplotlib.axes._subplots.AxesSubplot at 0x7f5da256bf98>"
          },
          "metadata": {}
        },
        {
          "output_type": "display_data",
          "data": {
            "image/png": "[encoded data removed]",
            "text/plain": "<Figure size 432x288 with 1 Axes>"
          },
          "metadata": {
            "needs_background": "light"
          }
        }
      ]
    },
    {
      "metadata": {
        "trusted": true
      },
      "cell_type": "code",
      "source": "#The distribution of the values in the BikeBuyer column indicates?\n#To answer this will import the BukeBuyer column as follows:\nbb=pd.read_csv('AW_BikeBuyer.csv')\nbb.head(5)",
      "execution_count": 17,
      "outputs": [
        {
          "output_type": "execute_result",
          "execution_count": 17,
          "data": {
            "text/html": "<div>\n<style scoped>\n    .dataframe tbody tr th:only-of-type {\n        vertical-align: middle;\n    }\n\n    .dataframe tbody tr th {\n        vertical-align: top;\n    }\n\n    .dataframe thead th {\n        text-align: right;\n    }\n</style>\n<table border=\"1\" class=\"dataframe\">\n  <thead>\n    <tr style=\"text-align: right;\">\n      <th></th>\n      <th>CustomerID</th>\n      <th>BikeBuyer</th>\n    </tr>\n  </thead>\n  <tbody>\n    <tr>\n      <th>0</th>\n      <td>11000</td>\n      <td>0</td>\n    </tr>\n    <tr>\n      <th>1</th>\n      <td>11001</td>\n      <td>1</td>\n    </tr>\n    <tr>\n      <th>2</th>\n      <td>11002</td>\n      <td>0</td>\n    </tr>\n    <tr>\n      <th>3</th>\n      <td>11003</td>\n      <td>0</td>\n    </tr>\n    <tr>\n      <th>4</th>\n      <td>11004</td>\n      <td>1</td>\n    </tr>\n  </tbody>\n</table>\n</div>",
            "text/plain": "   CustomerID  BikeBuyer\n0       11000          0\n1       11001          1\n2       11002          0\n3       11003          0\n4       11004          1"
          },
          "metadata": {}
        }
      ]
    },
    {
      "metadata": {
        "trusted": true
      },
      "cell_type": "code",
      "source": "#Will will now plot a histogram to Plot the distribution\nsns.countplot(x='BikeBuyer',data=bb)",
      "execution_count": 18,
      "outputs": [
        {
          "output_type": "execute_result",
          "execution_count": 18,
          "data": {
            "text/plain": "<matplotlib.axes._subplots.AxesSubplot at 0x7f5da1d9f358>"
          },
          "metadata": {}
        },
        {
          "output_type": "display_data",
          "data": {
            "image/png": "[encoded data removed]",
            "text/plain": "<Figure size 432x288 with 1 Axes>"
          },
          "metadata": {
            "needs_background": "light"
          }
        }
      ]
    },
    {
      "metadata": {},
      "cell_type": "markdown",
      "source": "As seen in the Histogram More People didnt buy a bike <br> As indicated 10,000 plus a didnt buy a Bike  where as less than 6000 bought one "
    },
    {
      "metadata": {
        "trusted": true
      },
      "cell_type": "code",
      "source": "#What is the correct order (from lowest to highest) that ranks the YearlyIncome by Occupation?\n#To answer this we should import our data on Yearly income which we will find in the AdvWorksCusts.csv file \nawc=pd.read_csv('AdvWorksCusts.csv')\nawc.head(5)\n",
      "execution_count": 19,
      "outputs": [
        {
          "output_type": "execute_result",
          "execution_count": 19,
          "data": {
            "text/html": "<div>\n<style scoped>\n    .dataframe tbody tr th:only-of-type {\n        vertical-align: middle;\n    }\n\n    .dataframe tbody tr th {\n        vertical-align: top;\n    }\n\n    .dataframe thead th {\n        text-align: right;\n    }\n</style>\n<table border=\"1\" class=\"dataframe\">\n  <thead>\n    <tr style=\"text-align: right;\">\n      <th></th>\n      <th>CustomerID</th>\n      <th>Title</th>\n      <th>FirstName</th>\n      <th>MiddleName</th>\n      <th>LastName</th>\n      <th>Suffix</th>\n      <th>AddressLine1</th>\n      <th>AddressLine2</th>\n      <th>City</th>\n      <th>StateProvinceName</th>\n      <th>...</th>\n      <th>BirthDate</th>\n      <th>Education</th>\n      <th>Occupation</th>\n      <th>Gender</th>\n      <th>MaritalStatus</th>\n      <th>HomeOwnerFlag</th>\n      <th>NumberCarsOwned</th>\n      <th>NumberChildrenAtHome</th>\n      <th>TotalChildren</th>\n      <th>YearlyIncome</th>\n    </tr>\n  </thead>\n  <tbody>\n    <tr>\n      <th>0</th>\n      <td>11000</td>\n      <td>NaN</td>\n      <td>Jon</td>\n      <td>V</td>\n      <td>Yang</td>\n      <td>NaN</td>\n      <td>3761 N. 14th St</td>\n      <td>NaN</td>\n      <td>Rockhampton</td>\n      <td>Queensland</td>\n      <td>...</td>\n      <td>1966-04-08</td>\n      <td>Bachelors</td>\n      <td>Professional</td>\n      <td>M</td>\n      <td>M</td>\n      <td>1</td>\n      <td>0</td>\n      <td>0</td>\n      <td>2</td>\n      <td>137947</td>\n    </tr>\n    <tr>\n      <th>1</th>\n      <td>11001</td>\n      <td>NaN</td>\n      <td>Eugene</td>\n      <td>L</td>\n      <td>Huang</td>\n      <td>NaN</td>\n      <td>2243 W St.</td>\n      <td>NaN</td>\n      <td>Seaford</td>\n      <td>Victoria</td>\n      <td>...</td>\n      <td>1965-05-14</td>\n      <td>Bachelors</td>\n      <td>Professional</td>\n      <td>M</td>\n      <td>S</td>\n      <td>0</td>\n      <td>1</td>\n      <td>3</td>\n      <td>3</td>\n      <td>101141</td>\n    </tr>\n    <tr>\n      <th>2</th>\n      <td>11002</td>\n      <td>NaN</td>\n      <td>Ruben</td>\n      <td>NaN</td>\n      <td>Torres</td>\n      <td>NaN</td>\n      <td>5844 Linden Land</td>\n      <td>NaN</td>\n      <td>Hobart</td>\n      <td>Tasmania</td>\n      <td>...</td>\n      <td>1965-08-12</td>\n      <td>Bachelors</td>\n      <td>Professional</td>\n      <td>M</td>\n      <td>M</td>\n      <td>1</td>\n      <td>1</td>\n      <td>3</td>\n      <td>3</td>\n      <td>91945</td>\n    </tr>\n    <tr>\n      <th>3</th>\n      <td>11003</td>\n      <td>NaN</td>\n      <td>Christy</td>\n      <td>NaN</td>\n      <td>Zhu</td>\n      <td>NaN</td>\n      <td>1825 Village Pl.</td>\n      <td>NaN</td>\n      <td>North Ryde</td>\n      <td>New South Wales</td>\n      <td>...</td>\n      <td>1968-02-15</td>\n      <td>Bachelors</td>\n      <td>Professional</td>\n      <td>F</td>\n      <td>S</td>\n      <td>0</td>\n      <td>1</td>\n      <td>0</td>\n      <td>0</td>\n      <td>86688</td>\n    </tr>\n    <tr>\n      <th>4</th>\n      <td>11004</td>\n      <td>NaN</td>\n      <td>Elizabeth</td>\n      <td>NaN</td>\n      <td>Johnson</td>\n      <td>NaN</td>\n      <td>7553 Harness Circle</td>\n      <td>NaN</td>\n      <td>Wollongong</td>\n      <td>New South Wales</td>\n      <td>...</td>\n      <td>1968-08-08</td>\n      <td>Bachelors</td>\n      <td>Professional</td>\n      <td>F</td>\n      <td>S</td>\n      <td>1</td>\n      <td>4</td>\n      <td>5</td>\n      <td>5</td>\n      <td>92771</td>\n    </tr>\n  </tbody>\n</table>\n<p>5 rows × 23 columns</p>\n</div>",
            "text/plain": "   CustomerID Title  FirstName MiddleName LastName Suffix  \\\n0       11000   NaN        Jon          V     Yang    NaN   \n1       11001   NaN     Eugene          L    Huang    NaN   \n2       11002   NaN      Ruben        NaN   Torres    NaN   \n3       11003   NaN    Christy        NaN      Zhu    NaN   \n4       11004   NaN  Elizabeth        NaN  Johnson    NaN   \n\n          AddressLine1 AddressLine2         City StateProvinceName  \\\n0      3761 N. 14th St          NaN  Rockhampton        Queensland   \n1           2243 W St.          NaN      Seaford          Victoria   \n2     5844 Linden Land          NaN       Hobart          Tasmania   \n3     1825 Village Pl.          NaN   North Ryde   New South Wales   \n4  7553 Harness Circle          NaN   Wollongong   New South Wales   \n\n       ...        BirthDate   Education    Occupation Gender MaritalStatus  \\\n0      ...       1966-04-08  Bachelors   Professional      M             M   \n1      ...       1965-05-14  Bachelors   Professional      M             S   \n2      ...       1965-08-12  Bachelors   Professional      M             M   \n3      ...       1968-02-15  Bachelors   Professional      F             S   \n4      ...       1968-08-08  Bachelors   Professional      F             S   \n\n  HomeOwnerFlag NumberCarsOwned NumberChildrenAtHome  TotalChildren  \\\n0             1               0                    0              2   \n1             0               1                    3              3   \n2             1               1                    3              3   \n3             0               1                    0              0   \n4             1               4                    5              5   \n\n   YearlyIncome  \n0        137947  \n1        101141  \n2         91945  \n3         86688  \n4         92771  \n\n[5 rows x 23 columns]"
          },
          "metadata": {}
        }
      ]
    },
    {
      "metadata": {
        "trusted": true
      },
      "cell_type": "code",
      "source": "YinOcc=awc[['YearlyIncome','Occupation']]\nYinOcc.head(5)",
      "execution_count": 20,
      "outputs": [
        {
          "output_type": "execute_result",
          "execution_count": 20,
          "data": {
            "text/html": "<div>\n<style scoped>\n    .dataframe tbody tr th:only-of-type {\n        vertical-align: middle;\n    }\n\n    .dataframe tbody tr th {\n        vertical-align: top;\n    }\n\n    .dataframe thead th {\n        text-align: right;\n    }\n</style>\n<table border=\"1\" class=\"dataframe\">\n  <thead>\n    <tr style=\"text-align: right;\">\n      <th></th>\n      <th>YearlyIncome</th>\n      <th>Occupation</th>\n    </tr>\n  </thead>\n  <tbody>\n    <tr>\n      <th>0</th>\n      <td>137947</td>\n      <td>Professional</td>\n    </tr>\n    <tr>\n      <th>1</th>\n      <td>101141</td>\n      <td>Professional</td>\n    </tr>\n    <tr>\n      <th>2</th>\n      <td>91945</td>\n      <td>Professional</td>\n    </tr>\n    <tr>\n      <th>3</th>\n      <td>86688</td>\n      <td>Professional</td>\n    </tr>\n    <tr>\n      <th>4</th>\n      <td>92771</td>\n      <td>Professional</td>\n    </tr>\n  </tbody>\n</table>\n</div>",
            "text/plain": "   YearlyIncome    Occupation\n0        137947  Professional\n1        101141  Professional\n2         91945  Professional\n3         86688  Professional\n4         92771  Professional"
          },
          "metadata": {}
        }
      ]
    },
    {
      "metadata": {
        "trusted": true
      },
      "cell_type": "code",
      "source": "#To find the median Yearly income based on Occupation we'll use a \nsns.catplot(x=\"Occupation\", y=\"YearlyIncome\", kind=\"box\", data=YinOcc);",
      "execution_count": 21,
      "outputs": [
        {
          "output_type": "display_data",
          "data": {
            "image/png": "[encoded data removed]",
            "text/plain": "<Figure size 360x360 with 1 Axes>"
          },
          "metadata": {
            "needs_background": "light"
          }
        }
      ]
    },
    {
      "metadata": {},
      "cell_type": "markdown",
      "source": "### Therefore from lowest to Highest being \n1.Manual\n2.Crerical\n3.Management\n4.Proffesional\n5.then Skilled Manual "
    },
    {
      "metadata": {
        "trusted": true
      },
      "cell_type": "code",
      "source": "",
      "execution_count": null,
      "outputs": []
    }
  ],
  "metadata": {
    "kernelspec": {
      "name": "python36",
      "display_name": "Python 3.6",
      "language": "python"
    },
    "language_info": {
      "mimetype": "text/x-python",
      "nbconvert_exporter": "python",
      "name": "python",
      "pygments_lexer": "ipython3",
      "version": "3.6.6",
      "file_extension": ".py",
      "codemirror_mode": {
        "version": 3,
        "name": "ipython"
      }
    }
  },
  "nbformat": 4,
  "nbformat_minor": 2
}