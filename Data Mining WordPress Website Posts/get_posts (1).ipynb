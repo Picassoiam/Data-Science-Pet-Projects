{
  "cells": [
    {
      "metadata": {
        "trusted": true
      },
      "cell_type": "code",
      "source": "import pandas as pd\nimport requests, json \nfrom bs4 import BeautifulSoup as soup\n",
      "execution_count": null,
      "outputs": []
    },
    {
      "metadata": {},
      "cell_type": "markdown",
      "source": "#####                   Getting posts from website(s) and load into a pandas dataframe\n       1. n_pages specifies the number of pages to be queried. one page contains 10 posts\n       2. Uncomment only one Web-page you want to collect information from"
    },
    {
      "metadata": {
        "trusted": true
      },
      "cell_type": "code",
      "source": "# web_page = \"https://www.mwebantu.news\"\n# web_page = \"https://www.lusakatimes.com\"\n# web_page = \"https://www.zambiawatchdog.com\"\nweb_page = \"https://zambianeye.com\"\n\nn_pages=2\n\ndata = pd.DataFrame({})\nfor i in range(1,n_pages+1):\n    url= web_page+\"/wp-json/wp/v2/posts?page=\"+str(i)\n    r = requests.get(url)\n    data = pd.concat([data,pd.DataFrame(r.json())],ignore_index=True, sort=False)\n    print(i)",
      "execution_count": null,
      "outputs": []
    },
    {
      "metadata": {
        "trusted": true
      },
      "cell_type": "code",
      "source": "data.columns",
      "execution_count": null,
      "outputs": []
    },
    {
      "metadata": {},
      "cell_type": "markdown",
      "source": "#####                       Function to clean the contents, excerpts, guid and titles of the posts "
    },
    {
      "metadata": {
        "trusted": false
      },
      "cell_type": "code",
      "source": "def clean_posts_data(column_title):\n    content_list = []\n\n    for i in data[column_title]:\n        data_soup = soup(i['rendered'], 'html.parser')\n\n        if bool(data_soup.find()):    # checking if the string has html tags\n            results = data_soup.find_all('p')\n            \n            temp_string = ''\n            for k in results:\n                temp_string += (str(k.text))\n            content_list.append(temp_string)\n            \n        else:\n            results = data_soup.text\n\n            temp_string = ''\n            for k in results:\n                temp_string += (str(k))\n            content_list.append(temp_string)\n    \n    return content_list\n\n# data.content = content_list",
      "execution_count": 3,
      "outputs": []
    },
    {
      "metadata": {},
      "cell_type": "markdown",
      "source": "###### Cleaning contents of the posts"
    },
    {
      "metadata": {
        "trusted": false
      },
      "cell_type": "code",
      "source": "data.content = clean_posts_data('content')",
      "execution_count": 157,
      "outputs": []
    },
    {
      "metadata": {},
      "cell_type": "markdown",
      "source": "##### Cleaning tiltes of the posts"
    },
    {
      "metadata": {
        "trusted": false
      },
      "cell_type": "code",
      "source": "data.title = clean_posts_data('title')",
      "execution_count": 158,
      "outputs": []
    },
    {
      "metadata": {},
      "cell_type": "markdown",
      "source": "###### Cleaning 'excerpt' of the posts"
    },
    {
      "metadata": {
        "trusted": false
      },
      "cell_type": "code",
      "source": "data.excerpt = clean_posts_data('excerpt')",
      "execution_count": 159,
      "outputs": []
    },
    {
      "metadata": {},
      "cell_type": "markdown",
      "source": "###### Cleaning 'guid' of the posts"
    },
    {
      "metadata": {
        "trusted": false
      },
      "cell_type": "code",
      "source": "# data.guid = clean_posts_data('guid')",
      "execution_count": 163,
      "outputs": []
    },
    {
      "metadata": {},
      "cell_type": "markdown",
      "source": "##### Exporting to Excel file and it ('Excel file') will be save in the folder where the jupyter file is"
    },
    {
      "metadata": {
        "trusted": false
      },
      "cell_type": "code",
      "source": "writer = pd.ExcelWriter('Posts.xlsx')\ndata.to_excel(writer,sheet_name = 'Posts', merge_cells = False)\nwriter.save()",
      "execution_count": 168,
      "outputs": []
    },
    {
      "metadata": {
        "trusted": true
      },
      "cell_type": "code",
      "source": "",
      "execution_count": null,
      "outputs": []
    }
  ],
  "metadata": {
    "kernelspec": {
      "name": "python3",
      "display_name": "Python 3",
      "language": "python"
    },
    "language_info": {
      "mimetype": "text/x-python",
      "nbconvert_exporter": "python",
      "name": "python",
      "file_extension": ".py",
      "version": "3.5.4",
      "pygments_lexer": "ipython3",
      "codemirror_mode": {
        "version": 3,
        "name": "ipython"
      }
    }
  },
  "nbformat": 4,
  "nbformat_minor": 2
}