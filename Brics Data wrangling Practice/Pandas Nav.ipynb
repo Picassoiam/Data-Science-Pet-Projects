{
  "cells": [
    {
      "metadata": {
        "trusted": true
      },
      "cell_type": "code",
      "source": "import pandas as pd\n",
      "execution_count": 2,
      "outputs": []
    },
    {
      "metadata": {
        "trusted": true
      },
      "cell_type": "code",
      "source": "brics=pd.read_csv('brics.csv')\nbrics",
      "execution_count": 3,
      "outputs": [
        {
          "output_type": "execute_result",
          "execution_count": 3,
          "data": {
            "text/html": "<div>\n<style scoped>\n    .dataframe tbody tr th:only-of-type {\n        vertical-align: middle;\n    }\n\n    .dataframe tbody tr th {\n        vertical-align: top;\n    }\n\n    .dataframe thead th {\n        text-align: right;\n    }\n</style>\n<table border=\"1\" class=\"dataframe\">\n  <thead>\n    <tr style=\"text-align: right;\">\n      <th></th>\n      <th>Unnamed: 0</th>\n      <th>country</th>\n      <th>population</th>\n      <th>area</th>\n      <th>capital</th>\n    </tr>\n  </thead>\n  <tbody>\n    <tr>\n      <th>0</th>\n      <td>BR</td>\n      <td>Brazil</td>\n      <td>200</td>\n      <td>8515767</td>\n      <td>Brasilia</td>\n    </tr>\n    <tr>\n      <th>1</th>\n      <td>RU</td>\n      <td>Russia</td>\n      <td>144</td>\n      <td>17098242</td>\n      <td>Moscow</td>\n    </tr>\n    <tr>\n      <th>2</th>\n      <td>IN</td>\n      <td>India</td>\n      <td>1252</td>\n      <td>3287590</td>\n      <td>New Delhi</td>\n    </tr>\n    <tr>\n      <th>3</th>\n      <td>CH</td>\n      <td>China</td>\n      <td>1357</td>\n      <td>9596961</td>\n      <td>Beijing</td>\n    </tr>\n    <tr>\n      <th>4</th>\n      <td>SA</td>\n      <td>South America</td>\n      <td>55</td>\n      <td>1221037</td>\n      <td>Pretoria</td>\n    </tr>\n  </tbody>\n</table>\n</div>",
            "text/plain": "  Unnamed: 0        country  population      area    capital\n0         BR         Brazil         200   8515767   Brasilia\n1         RU         Russia         144  17098242     Moscow\n2         IN          India        1252   3287590  New Delhi\n3         CH          China        1357   9596961    Beijing\n4         SA  South America          55   1221037   Pretoria"
          },
          "metadata": {}
        }
      ]
    },
    {
      "metadata": {
        "trusted": true
      },
      "cell_type": "code",
      "source": "brics=pd.read_csv('brics.csv',index_col=0)\nbrics",
      "execution_count": 4,
      "outputs": [
        {
          "output_type": "execute_result",
          "execution_count": 4,
          "data": {
            "text/html": "<div>\n<style scoped>\n    .dataframe tbody tr th:only-of-type {\n        vertical-align: middle;\n    }\n\n    .dataframe tbody tr th {\n        vertical-align: top;\n    }\n\n    .dataframe thead th {\n        text-align: right;\n    }\n</style>\n<table border=\"1\" class=\"dataframe\">\n  <thead>\n    <tr style=\"text-align: right;\">\n      <th></th>\n      <th>country</th>\n      <th>population</th>\n      <th>area</th>\n      <th>capital</th>\n    </tr>\n  </thead>\n  <tbody>\n    <tr>\n      <th>BR</th>\n      <td>Brazil</td>\n      <td>200</td>\n      <td>8515767</td>\n      <td>Brasilia</td>\n    </tr>\n    <tr>\n      <th>RU</th>\n      <td>Russia</td>\n      <td>144</td>\n      <td>17098242</td>\n      <td>Moscow</td>\n    </tr>\n    <tr>\n      <th>IN</th>\n      <td>India</td>\n      <td>1252</td>\n      <td>3287590</td>\n      <td>New Delhi</td>\n    </tr>\n    <tr>\n      <th>CH</th>\n      <td>China</td>\n      <td>1357</td>\n      <td>9596961</td>\n      <td>Beijing</td>\n    </tr>\n    <tr>\n      <th>SA</th>\n      <td>South America</td>\n      <td>55</td>\n      <td>1221037</td>\n      <td>Pretoria</td>\n    </tr>\n  </tbody>\n</table>\n</div>",
            "text/plain": "          country  population      area    capital\nBR         Brazil         200   8515767   Brasilia\nRU         Russia         144  17098242     Moscow\nIN          India        1252   3287590  New Delhi\nCH          China        1357   9596961    Beijing\nSA  South America          55   1221037   Pretoria"
          },
          "metadata": {}
        }
      ]
    },
    {
      "metadata": {
        "trusted": true
      },
      "cell_type": "code",
      "source": "brics[\"country\"]",
      "execution_count": 5,
      "outputs": [
        {
          "output_type": "execute_result",
          "execution_count": 5,
          "data": {
            "text/plain": "BR           Brazil\nRU           Russia\nIN            India\nCH            China\nSA    South America\nName: country, dtype: object"
          },
          "metadata": {}
        }
      ]
    },
    {
      "metadata": {
        "trusted": true
      },
      "cell_type": "code",
      "source": "brics.country",
      "execution_count": 10,
      "outputs": [
        {
          "output_type": "execute_result",
          "execution_count": 10,
          "data": {
            "text/plain": "BR           Brazil\nRU           Russia\nIN            India\nCH            China\nSA    South America\nName: country, dtype: object"
          },
          "metadata": {}
        }
      ]
    },
    {
      "metadata": {
        "trusted": true
      },
      "cell_type": "code",
      "source": "brics[\"one_earth\"]=[True,True,True,True,True]\nbrics",
      "execution_count": 12,
      "outputs": [
        {
          "output_type": "execute_result",
          "execution_count": 12,
          "data": {
            "text/html": "<div>\n<style scoped>\n    .dataframe tbody tr th:only-of-type {\n        vertical-align: middle;\n    }\n\n    .dataframe tbody tr th {\n        vertical-align: top;\n    }\n\n    .dataframe thead th {\n        text-align: right;\n    }\n</style>\n<table border=\"1\" class=\"dataframe\">\n  <thead>\n    <tr style=\"text-align: right;\">\n      <th></th>\n      <th>country</th>\n      <th>population</th>\n      <th>area</th>\n      <th>capital</th>\n      <th>one_earth</th>\n    </tr>\n  </thead>\n  <tbody>\n    <tr>\n      <th>BR</th>\n      <td>Brazil</td>\n      <td>200</td>\n      <td>8515767</td>\n      <td>Brasilia</td>\n      <td>True</td>\n    </tr>\n    <tr>\n      <th>RU</th>\n      <td>Russia</td>\n      <td>144</td>\n      <td>17098242</td>\n      <td>Moscow</td>\n      <td>True</td>\n    </tr>\n    <tr>\n      <th>IN</th>\n      <td>India</td>\n      <td>1252</td>\n      <td>3287590</td>\n      <td>New Delhi</td>\n      <td>True</td>\n    </tr>\n    <tr>\n      <th>CH</th>\n      <td>China</td>\n      <td>1357</td>\n      <td>9596961</td>\n      <td>Beijing</td>\n      <td>True</td>\n    </tr>\n    <tr>\n      <th>SA</th>\n      <td>South America</td>\n      <td>55</td>\n      <td>1221037</td>\n      <td>Pretoria</td>\n      <td>True</td>\n    </tr>\n  </tbody>\n</table>\n</div>",
            "text/plain": "          country  population      area    capital  one_earth\nBR         Brazil         200   8515767   Brasilia       True\nRU         Russia         144  17098242     Moscow       True\nIN          India        1252   3287590  New Delhi       True\nCH          China        1357   9596961    Beijing       True\nSA  South America          55   1221037   Pretoria       True"
          },
          "metadata": {}
        }
      ]
    },
    {
      "metadata": {
        "trusted": true
      },
      "cell_type": "code",
      "source": "brics[\"density\"]=brics[\"population\"]/brics[\"area\"]*1000000\nbrics",
      "execution_count": 6,
      "outputs": [
        {
          "output_type": "execute_result",
          "execution_count": 6,
          "data": {
            "text/html": "<div>\n<style scoped>\n    .dataframe tbody tr th:only-of-type {\n        vertical-align: middle;\n    }\n\n    .dataframe tbody tr th {\n        vertical-align: top;\n    }\n\n    .dataframe thead th {\n        text-align: right;\n    }\n</style>\n<table border=\"1\" class=\"dataframe\">\n  <thead>\n    <tr style=\"text-align: right;\">\n      <th></th>\n      <th>country</th>\n      <th>population</th>\n      <th>area</th>\n      <th>capital</th>\n      <th>density</th>\n    </tr>\n  </thead>\n  <tbody>\n    <tr>\n      <th>BR</th>\n      <td>Brazil</td>\n      <td>200</td>\n      <td>8515767</td>\n      <td>Brasilia</td>\n      <td>23.485847</td>\n    </tr>\n    <tr>\n      <th>RU</th>\n      <td>Russia</td>\n      <td>144</td>\n      <td>17098242</td>\n      <td>Moscow</td>\n      <td>8.421918</td>\n    </tr>\n    <tr>\n      <th>IN</th>\n      <td>India</td>\n      <td>1252</td>\n      <td>3287590</td>\n      <td>New Delhi</td>\n      <td>380.826076</td>\n    </tr>\n    <tr>\n      <th>CH</th>\n      <td>China</td>\n      <td>1357</td>\n      <td>9596961</td>\n      <td>Beijing</td>\n      <td>141.398928</td>\n    </tr>\n    <tr>\n      <th>SA</th>\n      <td>South America</td>\n      <td>55</td>\n      <td>1221037</td>\n      <td>Pretoria</td>\n      <td>45.043680</td>\n    </tr>\n  </tbody>\n</table>\n</div>",
            "text/plain": "          country  population      area    capital     density\nBR         Brazil         200   8515767   Brasilia   23.485847\nRU         Russia         144  17098242     Moscow    8.421918\nIN          India        1252   3287590  New Delhi  380.826076\nCH          China        1357   9596961    Beijing  141.398928\nSA  South America          55   1221037   Pretoria   45.043680"
          },
          "metadata": {}
        }
      ]
    },
    {
      "metadata": {
        "trusted": true
      },
      "cell_type": "code",
      "source": "brics.loc[\"BR\"]",
      "execution_count": 7,
      "outputs": [
        {
          "output_type": "execute_result",
          "execution_count": 7,
          "data": {
            "text/plain": "country         Brazil\npopulation         200\narea           8515767\ncapital       Brasilia\ndensity        23.4858\nName: BR, dtype: object"
          },
          "metadata": {}
        }
      ]
    },
    {
      "metadata": {
        "trusted": true
      },
      "cell_type": "code",
      "source": "brics.loc[\"CH\",\"capital\"]",
      "execution_count": 11,
      "outputs": [
        {
          "output_type": "execute_result",
          "execution_count": 11,
          "data": {
            "text/plain": "'Beijing'"
          },
          "metadata": {}
        }
      ]
    },
    {
      "metadata": {
        "trusted": true
      },
      "cell_type": "code",
      "source": "brics.loc[\"RU\",\"capital\"]",
      "execution_count": 9,
      "outputs": [
        {
          "output_type": "execute_result",
          "execution_count": 9,
          "data": {
            "text/plain": "'Moscow'"
          },
          "metadata": {}
        }
      ]
    },
    {
      "metadata": {
        "trusted": true
      },
      "cell_type": "code",
      "source": "brics.loc[\"\",\"capital\"]",
      "execution_count": 10,
      "outputs": [
        {
          "output_type": "execute_result",
          "execution_count": 10,
          "data": {
            "text/plain": "'Pretoria'"
          },
          "metadata": {}
        }
      ]
    },
    {
      "metadata": {
        "trusted": true
      },
      "cell_type": "code",
      "source": "brics.replace(\"South America\",\"South Africa\")",
      "execution_count": 16,
      "outputs": [
        {
          "output_type": "execute_result",
          "execution_count": 16,
          "data": {
            "text/html": "<div>\n<style scoped>\n    .dataframe tbody tr th:only-of-type {\n        vertical-align: middle;\n    }\n\n    .dataframe tbody tr th {\n        vertical-align: top;\n    }\n\n    .dataframe thead th {\n        text-align: right;\n    }\n</style>\n<table border=\"1\" class=\"dataframe\">\n  <thead>\n    <tr style=\"text-align: right;\">\n      <th></th>\n      <th>country</th>\n      <th>population</th>\n      <th>area</th>\n      <th>capital</th>\n      <th>density</th>\n    </tr>\n  </thead>\n  <tbody>\n    <tr>\n      <th>BR</th>\n      <td>Brazil</td>\n      <td>200</td>\n      <td>8515767</td>\n      <td>Brasilia</td>\n      <td>23.485847</td>\n    </tr>\n    <tr>\n      <th>RU</th>\n      <td>Russia</td>\n      <td>144</td>\n      <td>17098242</td>\n      <td>Moscow</td>\n      <td>8.421918</td>\n    </tr>\n    <tr>\n      <th>IN</th>\n      <td>India</td>\n      <td>1252</td>\n      <td>3287590</td>\n      <td>New Delhi</td>\n      <td>380.826076</td>\n    </tr>\n    <tr>\n      <th>CH</th>\n      <td>China</td>\n      <td>1357</td>\n      <td>9596961</td>\n      <td>Beijing</td>\n      <td>141.398928</td>\n    </tr>\n    <tr>\n      <th>SA</th>\n      <td>South Africa</td>\n      <td>55</td>\n      <td>1221037</td>\n      <td>Pretoria</td>\n      <td>45.043680</td>\n    </tr>\n  </tbody>\n</table>\n</div>",
            "text/plain": "         country  population      area    capital     density\nBR        Brazil         200   8515767   Brasilia   23.485847\nRU        Russia         144  17098242     Moscow    8.421918\nIN         India        1252   3287590  New Delhi  380.826076\nCH         China        1357   9596961    Beijing  141.398928\nSA  South Africa          55   1221037   Pretoria   45.043680"
          },
          "metadata": {}
        }
      ]
    },
    {
      "metadata": {
        "trusted": true
      },
      "cell_type": "code",
      "source": "brics.to_csv('brics2.csv')\nbric2\n",
      "execution_count": null,
      "outputs": []
    }
  ],
  "metadata": {
    "kernelspec": {
      "name": "python36",
      "display_name": "Python 3.6",
      "language": "python"
    },
    "language_info": {
      "mimetype": "text/x-python",
      "nbconvert_exporter": "python",
      "name": "python",
      "pygments_lexer": "ipython3",
      "version": "3.6.6",
      "file_extension": ".py",
      "codemirror_mode": {
        "version": 3,
        "name": "ipython"
      }
    }
  },
  "nbformat": 4,
  "nbformat_minor": 2
}